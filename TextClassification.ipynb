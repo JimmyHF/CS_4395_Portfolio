{
  "nbformat": 4,
  "nbformat_minor": 0,
  "metadata": {
    "colab": {
      "provenance": []
    },
    "kernelspec": {
      "name": "python3",
      "display_name": "Python 3"
    },
    "language_info": {
      "name": "python"
    }
  },
  "cells": [
    {
      "cell_type": "markdown",
      "source": [
        "# Text Classification"
      ],
      "metadata": {
        "id": "DQVcUXmYGen6"
      }
    },
    {
      "cell_type": "code",
      "execution_count": 89,
      "metadata": {
        "colab": {
          "base_uri": "https://localhost:8080/",
          "height": 0
        },
        "id": "x3l_C6VkTnte",
        "outputId": "b8c494b2-48e4-40db-91af-07064ea85a5a"
      },
      "outputs": [
        {
          "output_type": "stream",
          "name": "stdout",
          "text": [
            "rows and columns: (202, 10)\n",
            "                         ï»¿job_title             company_name  \\\n",
            "0                          Accountant     Equity Model Limited   \n",
            "1                      Content Writer        CLINTON FUND (CF)   \n",
            "2                          Accountant  Schleez Nigeria Limited   \n",
            "3                     Sales Executive  Bons Industries Limited   \n",
            "4  Bulk/Partnership Marketing Officer          TAMAK LOGISTICS   \n",
            "\n",
            "                        company_desc  \\\n",
            "0     Accounting, Auditing & Finance   \n",
            "1  Management & Business Development   \n",
            "2     Accounting, Auditing & Finance   \n",
            "3         Marketing & Communications   \n",
            "4         Marketing & Communications   \n",
            "\n",
            "                                            job_desc  \\\n",
            "0  Compiling, analyzing, and reporting financial ...   \n",
            "1  Creating, improving and maintaining content to...   \n",
            "2  Managing financial transactions, preparing fin...   \n",
            "3  Understanding of the sales process and dynamics.\"   \n",
            "4  Establish relationships with major businesses ...   \n",
            "\n",
            "                                     job_requirement            salary  \\\n",
            "0  This position is open preferably to a male can...  75,000 - 150,000   \n",
            "1   Bachelor's degree in Journalism, English, Com...  60,000 - 100,000   \n",
            "2  Minimum of Bachelor's degree in Accounting or ...        Negotiable   \n",
            "3  Minimum academic qualification of BSC/HND Degr...  75,000 - 150,000   \n",
            "4  Be smart & resourceful.,Great knowledge of how...  Less than 75,000   \n",
            "\n",
            "                                            location employment_type  \\\n",
            "0                                              Abuja       Full Time   \n",
            "1                                              Lagos       Full Time   \n",
            "2  First Floor, Left Wing, No. 49, Olowu Street, ...       Full-time   \n",
            "3                                              Enugu       Full Time   \n",
            "4                                              Lagos       Full Time   \n",
            "\n",
            "                    department  label  \n",
            "0             Law & Compliance      0  \n",
            "1              Content Writing      1  \n",
            "2                   Accounting      1  \n",
            "3  Manufacturing & Warehousing      0  \n",
            "4         Shipping & Logistics      0  \n"
          ]
        }
      ],
      "source": [
        "import pandas as pd\n",
        "df = pd.read_csv('./CompiledjobListNigeria.csv', header=0, encoding='latin-1')\n",
        "print('rows and columns:', df.shape)\n",
        "print(df.head())"
      ]
    },
    {
      "cell_type": "markdown",
      "source": [
        "The dataset consists of text information on Nigerian job listings. Some of these posts are real, and some of them are fake, and the goal is to create a binary classification predicting whether jobs are real or fake using the given fields. There are 9 features containing strings and 1 target column containing a numeric label."
      ],
      "metadata": {
        "id": "tFTjzuptGmW3"
      }
    },
    {
      "cell_type": "code",
      "source": [
        "from nltk.corpus import stopwords\n",
        "from sklearn.feature_extraction.text import TfidfVectorizer\n",
        "\n",
        "stopwords = (stopwords.words('english'))\n",
        "vectorizer = TfidfVectorizer(stop_words=stopwords)"
      ],
      "metadata": {
        "id": "_02Qma7VmXwi"
      },
      "execution_count": 90,
      "outputs": []
    },
    {
      "cell_type": "code",
      "source": [
        "# set up X and y\n",
        "X = df.assign(concat = df['ï»¿job_title'].astype(str) + \"  \" + df.company_name.astype(str) + \" \" + df.company_desc.astype(str) + \"  \" + df.job_desc.astype(str)+\n",
        "            \"  \" + df.job_requirement.astype(str)+ \"  \" + df.location.astype(str) + \" \" + df.department.astype(str) + \" \" + df.employment_type.astype(str))\n",
        "X = X.concat\n",
        "y = df.label\n",
        "\n",
        "print(df[df['label'] == 1].count())"
      ],
      "metadata": {
        "colab": {
          "base_uri": "https://localhost:8080/",
          "height": 0
        },
        "id": "BD9BkCJImxTR",
        "outputId": "b0a0f8c1-e2e4-4ca2-82b4-53f321e93a95"
      },
      "execution_count": 91,
      "outputs": [
        {
          "output_type": "stream",
          "name": "stdout",
          "text": [
            "ï»¿job_title       67\n",
            "company_name       67\n",
            "company_desc       67\n",
            "job_desc           67\n",
            "job_requirement    67\n",
            "salary             67\n",
            "location           67\n",
            "employment_type    67\n",
            "department         67\n",
            "label              67\n",
            "dtype: int64\n"
          ]
        }
      ]
    },
    {
      "cell_type": "markdown",
      "source": [
        "I chose to use 8 of the fields, as the salary one was numeric and seemed less relevant and more difficult to work with. Instead of combining vectorizers across weighted classes, I decided to simply concatenate all of the string fields into 1 column that can be preprocessed and vectorized. This method worked well with the Naive Bayes model, but the logistic regression model suffered on recall."
      ],
      "metadata": {
        "id": "DGinqUgIHGQz"
      }
    },
    {
      "cell_type": "markdown",
      "source": [
        "# Text to Data"
      ],
      "metadata": {
        "id": "OnTGXsX6H1La"
      }
    },
    {
      "cell_type": "code",
      "source": [
        "from sklearn.model_selection import train_test_split\n",
        "X_train, X_test, y_train, y_test = train_test_split(X, y, test_size=0.2, train_size=0.8, random_state=1234)\n",
        "\n",
        "# apply tfidf vectorizer\n",
        "X_train = vectorizer.fit_transform(X_train)  # transform only the train data\n",
        "\n",
        "X_test = vectorizer.transform(X_test)        # transform only the test data\n",
        "\n",
        "print(X_train.shape)\n",
        "print(y_train.shape)"
      ],
      "metadata": {
        "colab": {
          "base_uri": "https://localhost:8080/",
          "height": 0
        },
        "id": "oSLr8ybtnxwU",
        "outputId": "ecb7d424-5842-4bfa-a139-ce661f3b17ea"
      },
      "execution_count": 92,
      "outputs": [
        {
          "output_type": "stream",
          "name": "stdout",
          "text": [
            "(161, 1867)\n",
            "(161,)\n"
          ]
        }
      ]
    },
    {
      "cell_type": "markdown",
      "source": [
        "# Naive Bayes"
      ],
      "metadata": {
        "id": "MEFPWRaEMGYP"
      }
    },
    {
      "cell_type": "code",
      "source": [
        "from sklearn.naive_bayes import MultinomialNB\n",
        "\n",
        "nb = MultinomialNB()\n",
        "nb.fit(X_train, y_train)"
      ],
      "metadata": {
        "colab": {
          "base_uri": "https://localhost:8080/",
          "height": 74
        },
        "id": "hPH6IsAStcg4",
        "outputId": "6f4a7124-ce3f-4fa5-d311-3ff3efdef4c5"
      },
      "execution_count": 93,
      "outputs": [
        {
          "output_type": "execute_result",
          "data": {
            "text/plain": [
              "MultinomialNB()"
            ],
            "text/html": [
              "<style>#sk-container-id-14 {color: black;background-color: white;}#sk-container-id-14 pre{padding: 0;}#sk-container-id-14 div.sk-toggleable {background-color: white;}#sk-container-id-14 label.sk-toggleable__label {cursor: pointer;display: block;width: 100%;margin-bottom: 0;padding: 0.3em;box-sizing: border-box;text-align: center;}#sk-container-id-14 label.sk-toggleable__label-arrow:before {content: \"▸\";float: left;margin-right: 0.25em;color: #696969;}#sk-container-id-14 label.sk-toggleable__label-arrow:hover:before {color: black;}#sk-container-id-14 div.sk-estimator:hover label.sk-toggleable__label-arrow:before {color: black;}#sk-container-id-14 div.sk-toggleable__content {max-height: 0;max-width: 0;overflow: hidden;text-align: left;background-color: #f0f8ff;}#sk-container-id-14 div.sk-toggleable__content pre {margin: 0.2em;color: black;border-radius: 0.25em;background-color: #f0f8ff;}#sk-container-id-14 input.sk-toggleable__control:checked~div.sk-toggleable__content {max-height: 200px;max-width: 100%;overflow: auto;}#sk-container-id-14 input.sk-toggleable__control:checked~label.sk-toggleable__label-arrow:before {content: \"▾\";}#sk-container-id-14 div.sk-estimator input.sk-toggleable__control:checked~label.sk-toggleable__label {background-color: #d4ebff;}#sk-container-id-14 div.sk-label input.sk-toggleable__control:checked~label.sk-toggleable__label {background-color: #d4ebff;}#sk-container-id-14 input.sk-hidden--visually {border: 0;clip: rect(1px 1px 1px 1px);clip: rect(1px, 1px, 1px, 1px);height: 1px;margin: -1px;overflow: hidden;padding: 0;position: absolute;width: 1px;}#sk-container-id-14 div.sk-estimator {font-family: monospace;background-color: #f0f8ff;border: 1px dotted black;border-radius: 0.25em;box-sizing: border-box;margin-bottom: 0.5em;}#sk-container-id-14 div.sk-estimator:hover {background-color: #d4ebff;}#sk-container-id-14 div.sk-parallel-item::after {content: \"\";width: 100%;border-bottom: 1px solid gray;flex-grow: 1;}#sk-container-id-14 div.sk-label:hover label.sk-toggleable__label {background-color: #d4ebff;}#sk-container-id-14 div.sk-serial::before {content: \"\";position: absolute;border-left: 1px solid gray;box-sizing: border-box;top: 0;bottom: 0;left: 50%;z-index: 0;}#sk-container-id-14 div.sk-serial {display: flex;flex-direction: column;align-items: center;background-color: white;padding-right: 0.2em;padding-left: 0.2em;position: relative;}#sk-container-id-14 div.sk-item {position: relative;z-index: 1;}#sk-container-id-14 div.sk-parallel {display: flex;align-items: stretch;justify-content: center;background-color: white;position: relative;}#sk-container-id-14 div.sk-item::before, #sk-container-id-14 div.sk-parallel-item::before {content: \"\";position: absolute;border-left: 1px solid gray;box-sizing: border-box;top: 0;bottom: 0;left: 50%;z-index: -1;}#sk-container-id-14 div.sk-parallel-item {display: flex;flex-direction: column;z-index: 1;position: relative;background-color: white;}#sk-container-id-14 div.sk-parallel-item:first-child::after {align-self: flex-end;width: 50%;}#sk-container-id-14 div.sk-parallel-item:last-child::after {align-self: flex-start;width: 50%;}#sk-container-id-14 div.sk-parallel-item:only-child::after {width: 0;}#sk-container-id-14 div.sk-dashed-wrapped {border: 1px dashed gray;margin: 0 0.4em 0.5em 0.4em;box-sizing: border-box;padding-bottom: 0.4em;background-color: white;}#sk-container-id-14 div.sk-label label {font-family: monospace;font-weight: bold;display: inline-block;line-height: 1.2em;}#sk-container-id-14 div.sk-label-container {text-align: center;}#sk-container-id-14 div.sk-container {/* jupyter's `normalize.less` sets `[hidden] { display: none; }` but bootstrap.min.css set `[hidden] { display: none !important; }` so we also need the `!important` here to be able to override the default hidden behavior on the sphinx rendered scikit-learn.org. See: https://github.com/scikit-learn/scikit-learn/issues/21755 */display: inline-block !important;position: relative;}#sk-container-id-14 div.sk-text-repr-fallback {display: none;}</style><div id=\"sk-container-id-14\" class=\"sk-top-container\"><div class=\"sk-text-repr-fallback\"><pre>MultinomialNB()</pre><b>In a Jupyter environment, please rerun this cell to show the HTML representation or trust the notebook. <br />On GitHub, the HTML representation is unable to render, please try loading this page with nbviewer.org.</b></div><div class=\"sk-container\" hidden><div class=\"sk-item\"><div class=\"sk-estimator sk-toggleable\"><input class=\"sk-toggleable__control sk-hidden--visually\" id=\"sk-estimator-id-14\" type=\"checkbox\" checked><label for=\"sk-estimator-id-14\" class=\"sk-toggleable__label sk-toggleable__label-arrow\">MultinomialNB</label><div class=\"sk-toggleable__content\"><pre>MultinomialNB()</pre></div></div></div></div></div>"
            ]
          },
          "metadata": {},
          "execution_count": 93
        }
      ]
    },
    {
      "cell_type": "code",
      "source": [
        "from sklearn.metrics import accuracy_score, precision_score, recall_score, f1_score, confusion_matrix\n",
        "\n",
        "# make predictions on the test data\n",
        "pred = nb.predict(X_test)\n",
        "\n",
        "# print confusion matrix\n",
        "print(confusion_matrix(y_test, pred))\n",
        "\n",
        "print('accuracy score: ', accuracy_score(y_test, pred))\n",
        "      \n",
        "print('\\nprecision score (real): ', precision_score(y_test, pred, pos_label=0))\n",
        "print('precision score (fake): ', precision_score(y_test, pred))\n",
        "\n",
        "print('\\nrecall score: (real)', recall_score(y_test, pred, pos_label=0))\n",
        "print('recall score: (fake)', recall_score(y_test, pred))\n",
        "      \n",
        "print('\\nf1 score: ', f1_score(y_test, pred))"
      ],
      "metadata": {
        "colab": {
          "base_uri": "https://localhost:8080/",
          "height": 0
        },
        "id": "RUlxlJ2X2sQ1",
        "outputId": "2b7f9f43-a3d9-4e6e-a8c5-8b0491d2181d"
      },
      "execution_count": 94,
      "outputs": [
        {
          "output_type": "stream",
          "name": "stdout",
          "text": [
            "[[27  0]\n",
            " [ 2 12]]\n",
            "accuracy score:  0.9512195121951219\n",
            "\n",
            "precision score (real):  0.9310344827586207\n",
            "precision score (fake):  1.0\n",
            "\n",
            "recall score: (real) 1.0\n",
            "recall score: (fake) 0.8571428571428571\n",
            "\n",
            "f1 score:  0.923076923076923\n"
          ]
        }
      ]
    },
    {
      "cell_type": "code",
      "source": [
        "from sklearn.metrics import classification_report\n",
        "from sklearn.metrics import cohen_kappa_score\n",
        "\n",
        "print(\"Kappa:\", cohen_kappa_score(y_test, pred))\n",
        "print(classification_report(y_test, pred))"
      ],
      "metadata": {
        "colab": {
          "base_uri": "https://localhost:8080/",
          "height": 0
        },
        "id": "GuE4_9cq24MZ",
        "outputId": "9453b4ff-815d-4d27-d3e0-cf0e7f349c5c"
      },
      "execution_count": 95,
      "outputs": [
        {
          "output_type": "stream",
          "name": "stdout",
          "text": [
            "Kappa: 0.8876712328767123\n",
            "              precision    recall  f1-score   support\n",
            "\n",
            "           0       0.93      1.00      0.96        27\n",
            "           1       1.00      0.86      0.92        14\n",
            "\n",
            "    accuracy                           0.95        41\n",
            "   macro avg       0.97      0.93      0.94        41\n",
            "weighted avg       0.95      0.95      0.95        41\n",
            "\n"
          ]
        }
      ]
    },
    {
      "cell_type": "markdown",
      "source": [
        "With only 202 instances, this data set is perfect for Naive Bayes, which historically performs well with small data sets. It converges quickly and has high bias, so it is prone to underfit data. The area in which this model struggled the most was recall on fake job posts; part of this is that there is a class imbalance towards real job posts, so given the option the model is more likely to classify an instance as real."
      ],
      "metadata": {
        "id": "8TUBj7n7OY3Q"
      }
    },
    {
      "cell_type": "markdown",
      "source": [
        "# Logistic Regression"
      ],
      "metadata": {
        "id": "yLuOLULjMKCL"
      }
    },
    {
      "cell_type": "code",
      "source": [
        "from sklearn.linear_model import LogisticRegression\n",
        "\n",
        "lr = LogisticRegression(solver='lbfgs', random_state=1234)\n",
        "lr.fit(X_train, y_train)"
      ],
      "metadata": {
        "colab": {
          "base_uri": "https://localhost:8080/",
          "height": 74
        },
        "id": "nYLIRev48ZD2",
        "outputId": "324218aa-6634-4015-87be-63b33e788d71"
      },
      "execution_count": 96,
      "outputs": [
        {
          "output_type": "execute_result",
          "data": {
            "text/plain": [
              "LogisticRegression(random_state=1234)"
            ],
            "text/html": [
              "<style>#sk-container-id-15 {color: black;background-color: white;}#sk-container-id-15 pre{padding: 0;}#sk-container-id-15 div.sk-toggleable {background-color: white;}#sk-container-id-15 label.sk-toggleable__label {cursor: pointer;display: block;width: 100%;margin-bottom: 0;padding: 0.3em;box-sizing: border-box;text-align: center;}#sk-container-id-15 label.sk-toggleable__label-arrow:before {content: \"▸\";float: left;margin-right: 0.25em;color: #696969;}#sk-container-id-15 label.sk-toggleable__label-arrow:hover:before {color: black;}#sk-container-id-15 div.sk-estimator:hover label.sk-toggleable__label-arrow:before {color: black;}#sk-container-id-15 div.sk-toggleable__content {max-height: 0;max-width: 0;overflow: hidden;text-align: left;background-color: #f0f8ff;}#sk-container-id-15 div.sk-toggleable__content pre {margin: 0.2em;color: black;border-radius: 0.25em;background-color: #f0f8ff;}#sk-container-id-15 input.sk-toggleable__control:checked~div.sk-toggleable__content {max-height: 200px;max-width: 100%;overflow: auto;}#sk-container-id-15 input.sk-toggleable__control:checked~label.sk-toggleable__label-arrow:before {content: \"▾\";}#sk-container-id-15 div.sk-estimator input.sk-toggleable__control:checked~label.sk-toggleable__label {background-color: #d4ebff;}#sk-container-id-15 div.sk-label input.sk-toggleable__control:checked~label.sk-toggleable__label {background-color: #d4ebff;}#sk-container-id-15 input.sk-hidden--visually {border: 0;clip: rect(1px 1px 1px 1px);clip: rect(1px, 1px, 1px, 1px);height: 1px;margin: -1px;overflow: hidden;padding: 0;position: absolute;width: 1px;}#sk-container-id-15 div.sk-estimator {font-family: monospace;background-color: #f0f8ff;border: 1px dotted black;border-radius: 0.25em;box-sizing: border-box;margin-bottom: 0.5em;}#sk-container-id-15 div.sk-estimator:hover {background-color: #d4ebff;}#sk-container-id-15 div.sk-parallel-item::after {content: \"\";width: 100%;border-bottom: 1px solid gray;flex-grow: 1;}#sk-container-id-15 div.sk-label:hover label.sk-toggleable__label {background-color: #d4ebff;}#sk-container-id-15 div.sk-serial::before {content: \"\";position: absolute;border-left: 1px solid gray;box-sizing: border-box;top: 0;bottom: 0;left: 50%;z-index: 0;}#sk-container-id-15 div.sk-serial {display: flex;flex-direction: column;align-items: center;background-color: white;padding-right: 0.2em;padding-left: 0.2em;position: relative;}#sk-container-id-15 div.sk-item {position: relative;z-index: 1;}#sk-container-id-15 div.sk-parallel {display: flex;align-items: stretch;justify-content: center;background-color: white;position: relative;}#sk-container-id-15 div.sk-item::before, #sk-container-id-15 div.sk-parallel-item::before {content: \"\";position: absolute;border-left: 1px solid gray;box-sizing: border-box;top: 0;bottom: 0;left: 50%;z-index: -1;}#sk-container-id-15 div.sk-parallel-item {display: flex;flex-direction: column;z-index: 1;position: relative;background-color: white;}#sk-container-id-15 div.sk-parallel-item:first-child::after {align-self: flex-end;width: 50%;}#sk-container-id-15 div.sk-parallel-item:last-child::after {align-self: flex-start;width: 50%;}#sk-container-id-15 div.sk-parallel-item:only-child::after {width: 0;}#sk-container-id-15 div.sk-dashed-wrapped {border: 1px dashed gray;margin: 0 0.4em 0.5em 0.4em;box-sizing: border-box;padding-bottom: 0.4em;background-color: white;}#sk-container-id-15 div.sk-label label {font-family: monospace;font-weight: bold;display: inline-block;line-height: 1.2em;}#sk-container-id-15 div.sk-label-container {text-align: center;}#sk-container-id-15 div.sk-container {/* jupyter's `normalize.less` sets `[hidden] { display: none; }` but bootstrap.min.css set `[hidden] { display: none !important; }` so we also need the `!important` here to be able to override the default hidden behavior on the sphinx rendered scikit-learn.org. See: https://github.com/scikit-learn/scikit-learn/issues/21755 */display: inline-block !important;position: relative;}#sk-container-id-15 div.sk-text-repr-fallback {display: none;}</style><div id=\"sk-container-id-15\" class=\"sk-top-container\"><div class=\"sk-text-repr-fallback\"><pre>LogisticRegression(random_state=1234)</pre><b>In a Jupyter environment, please rerun this cell to show the HTML representation or trust the notebook. <br />On GitHub, the HTML representation is unable to render, please try loading this page with nbviewer.org.</b></div><div class=\"sk-container\" hidden><div class=\"sk-item\"><div class=\"sk-estimator sk-toggleable\"><input class=\"sk-toggleable__control sk-hidden--visually\" id=\"sk-estimator-id-15\" type=\"checkbox\" checked><label for=\"sk-estimator-id-15\" class=\"sk-toggleable__label sk-toggleable__label-arrow\">LogisticRegression</label><div class=\"sk-toggleable__content\"><pre>LogisticRegression(random_state=1234)</pre></div></div></div></div></div>"
            ]
          },
          "metadata": {},
          "execution_count": 96
        }
      ]
    },
    {
      "cell_type": "code",
      "source": [
        "# make predictions on the test data\n",
        "pred_log = lr.predict(X_test)\n",
        "\n",
        "# print confusion matrix\n",
        "print(confusion_matrix(y_test, pred_log))\n",
        "\n",
        "print('accuracy score: ', accuracy_score(y_test, pred_log))\n",
        "      \n",
        "print('\\nprecision score (real): ', precision_score(y_test, pred_log, pos_label=0))\n",
        "print('precision score (fake): ', precision_score(y_test, pred_log))\n",
        "\n",
        "print('\\nrecall score: (real)', recall_score(y_test, pred_log, pos_label=0))\n",
        "print('recall score: (fake)', recall_score(y_test, pred_log))\n",
        "      \n",
        "print('\\nf1 score: ', f1_score(y_test, pred_log))"
      ],
      "metadata": {
        "colab": {
          "base_uri": "https://localhost:8080/",
          "height": 0
        },
        "id": "O-FLvsNG8yjX",
        "outputId": "2498a0fe-4c75-4fe8-ec79-8556b481cff3"
      },
      "execution_count": 97,
      "outputs": [
        {
          "output_type": "stream",
          "name": "stdout",
          "text": [
            "[[27  0]\n",
            " [ 6  8]]\n",
            "accuracy score:  0.8536585365853658\n",
            "\n",
            "precision score (real):  0.8181818181818182\n",
            "precision score (fake):  1.0\n",
            "\n",
            "recall score: (real) 1.0\n",
            "recall score: (fake) 0.5714285714285714\n",
            "\n",
            "f1 score:  0.7272727272727273\n"
          ]
        }
      ]
    },
    {
      "cell_type": "code",
      "source": [
        "print(\"Kappa:\", cohen_kappa_score(y_test, pred_log))\n",
        "print(classification_report(y_test, pred_log))"
      ],
      "metadata": {
        "colab": {
          "base_uri": "https://localhost:8080/",
          "height": 0
        },
        "id": "_iZmMZPUCwzN",
        "outputId": "6238faa7-2e70-4ea1-9f4e-b415f3360b2f"
      },
      "execution_count": 98,
      "outputs": [
        {
          "output_type": "stream",
          "name": "stdout",
          "text": [
            "Kappa: 0.6371681415929203\n",
            "              precision    recall  f1-score   support\n",
            "\n",
            "           0       0.82      1.00      0.90        27\n",
            "           1       1.00      0.57      0.73        14\n",
            "\n",
            "    accuracy                           0.85        41\n",
            "   macro avg       0.91      0.79      0.81        41\n",
            "weighted avg       0.88      0.85      0.84        41\n",
            "\n"
          ]
        }
      ]
    },
    {
      "cell_type": "markdown",
      "source": [
        "Logistic regression performed the worst out of all of the models. Logistic regression is a high-variance algorithm that converges more slowly than Naive Bayes, so it requires more instances in the training set. The poor 0.57 recall can be attributed to class imbalance. I verified this by including the Kappa metric, which shows that the accuracy adjusted for chance is much worse than what the accuracy value would suggest."
      ],
      "metadata": {
        "id": "xPKtrN5XPvJO"
      }
    },
    {
      "cell_type": "markdown",
      "source": [
        "# Neural Network"
      ],
      "metadata": {
        "id": "G09UnCxIMNAE"
      }
    },
    {
      "cell_type": "code",
      "source": [
        "from sklearn.neural_network import MLPClassifier\n",
        "\n",
        "classifier = MLPClassifier(solver='lbfgs', alpha=1e-5,\n",
        "                   hidden_layer_sizes=(15, 3), random_state=1234)\n",
        "classifier.fit(X_train, y_train)"
      ],
      "metadata": {
        "colab": {
          "base_uri": "https://localhost:8080/",
          "height": 92
        },
        "id": "Tzia09NOJn61",
        "outputId": "24efc413-db62-4323-d3fd-f44e92602e0e"
      },
      "execution_count": 99,
      "outputs": [
        {
          "output_type": "execute_result",
          "data": {
            "text/plain": [
              "MLPClassifier(alpha=1e-05, hidden_layer_sizes=(15, 3), random_state=1234,\n",
              "              solver='lbfgs')"
            ],
            "text/html": [
              "<style>#sk-container-id-16 {color: black;background-color: white;}#sk-container-id-16 pre{padding: 0;}#sk-container-id-16 div.sk-toggleable {background-color: white;}#sk-container-id-16 label.sk-toggleable__label {cursor: pointer;display: block;width: 100%;margin-bottom: 0;padding: 0.3em;box-sizing: border-box;text-align: center;}#sk-container-id-16 label.sk-toggleable__label-arrow:before {content: \"▸\";float: left;margin-right: 0.25em;color: #696969;}#sk-container-id-16 label.sk-toggleable__label-arrow:hover:before {color: black;}#sk-container-id-16 div.sk-estimator:hover label.sk-toggleable__label-arrow:before {color: black;}#sk-container-id-16 div.sk-toggleable__content {max-height: 0;max-width: 0;overflow: hidden;text-align: left;background-color: #f0f8ff;}#sk-container-id-16 div.sk-toggleable__content pre {margin: 0.2em;color: black;border-radius: 0.25em;background-color: #f0f8ff;}#sk-container-id-16 input.sk-toggleable__control:checked~div.sk-toggleable__content {max-height: 200px;max-width: 100%;overflow: auto;}#sk-container-id-16 input.sk-toggleable__control:checked~label.sk-toggleable__label-arrow:before {content: \"▾\";}#sk-container-id-16 div.sk-estimator input.sk-toggleable__control:checked~label.sk-toggleable__label {background-color: #d4ebff;}#sk-container-id-16 div.sk-label input.sk-toggleable__control:checked~label.sk-toggleable__label {background-color: #d4ebff;}#sk-container-id-16 input.sk-hidden--visually {border: 0;clip: rect(1px 1px 1px 1px);clip: rect(1px, 1px, 1px, 1px);height: 1px;margin: -1px;overflow: hidden;padding: 0;position: absolute;width: 1px;}#sk-container-id-16 div.sk-estimator {font-family: monospace;background-color: #f0f8ff;border: 1px dotted black;border-radius: 0.25em;box-sizing: border-box;margin-bottom: 0.5em;}#sk-container-id-16 div.sk-estimator:hover {background-color: #d4ebff;}#sk-container-id-16 div.sk-parallel-item::after {content: \"\";width: 100%;border-bottom: 1px solid gray;flex-grow: 1;}#sk-container-id-16 div.sk-label:hover label.sk-toggleable__label {background-color: #d4ebff;}#sk-container-id-16 div.sk-serial::before {content: \"\";position: absolute;border-left: 1px solid gray;box-sizing: border-box;top: 0;bottom: 0;left: 50%;z-index: 0;}#sk-container-id-16 div.sk-serial {display: flex;flex-direction: column;align-items: center;background-color: white;padding-right: 0.2em;padding-left: 0.2em;position: relative;}#sk-container-id-16 div.sk-item {position: relative;z-index: 1;}#sk-container-id-16 div.sk-parallel {display: flex;align-items: stretch;justify-content: center;background-color: white;position: relative;}#sk-container-id-16 div.sk-item::before, #sk-container-id-16 div.sk-parallel-item::before {content: \"\";position: absolute;border-left: 1px solid gray;box-sizing: border-box;top: 0;bottom: 0;left: 50%;z-index: -1;}#sk-container-id-16 div.sk-parallel-item {display: flex;flex-direction: column;z-index: 1;position: relative;background-color: white;}#sk-container-id-16 div.sk-parallel-item:first-child::after {align-self: flex-end;width: 50%;}#sk-container-id-16 div.sk-parallel-item:last-child::after {align-self: flex-start;width: 50%;}#sk-container-id-16 div.sk-parallel-item:only-child::after {width: 0;}#sk-container-id-16 div.sk-dashed-wrapped {border: 1px dashed gray;margin: 0 0.4em 0.5em 0.4em;box-sizing: border-box;padding-bottom: 0.4em;background-color: white;}#sk-container-id-16 div.sk-label label {font-family: monospace;font-weight: bold;display: inline-block;line-height: 1.2em;}#sk-container-id-16 div.sk-label-container {text-align: center;}#sk-container-id-16 div.sk-container {/* jupyter's `normalize.less` sets `[hidden] { display: none; }` but bootstrap.min.css set `[hidden] { display: none !important; }` so we also need the `!important` here to be able to override the default hidden behavior on the sphinx rendered scikit-learn.org. See: https://github.com/scikit-learn/scikit-learn/issues/21755 */display: inline-block !important;position: relative;}#sk-container-id-16 div.sk-text-repr-fallback {display: none;}</style><div id=\"sk-container-id-16\" class=\"sk-top-container\"><div class=\"sk-text-repr-fallback\"><pre>MLPClassifier(alpha=1e-05, hidden_layer_sizes=(15, 3), random_state=1234,\n",
              "              solver=&#x27;lbfgs&#x27;)</pre><b>In a Jupyter environment, please rerun this cell to show the HTML representation or trust the notebook. <br />On GitHub, the HTML representation is unable to render, please try loading this page with nbviewer.org.</b></div><div class=\"sk-container\" hidden><div class=\"sk-item\"><div class=\"sk-estimator sk-toggleable\"><input class=\"sk-toggleable__control sk-hidden--visually\" id=\"sk-estimator-id-16\" type=\"checkbox\" checked><label for=\"sk-estimator-id-16\" class=\"sk-toggleable__label sk-toggleable__label-arrow\">MLPClassifier</label><div class=\"sk-toggleable__content\"><pre>MLPClassifier(alpha=1e-05, hidden_layer_sizes=(15, 3), random_state=1234,\n",
              "              solver=&#x27;lbfgs&#x27;)</pre></div></div></div></div></div>"
            ]
          },
          "metadata": {},
          "execution_count": 99
        }
      ]
    },
    {
      "cell_type": "code",
      "source": [
        "pred_nn = classifier.predict(X_test)\n",
        "print('accuracy score: ', accuracy_score(y_test, pred_nn))\n",
        "\n",
        "print('\\nprecision score (real): ', precision_score(y_test, pred_nn, pos_label=0))\n",
        "print('precision score (fake): ', precision_score(y_test, pred_nn))\n",
        "\n",
        "print('\\nrecall score: (real)', recall_score(y_test, pred_nn, pos_label=0))\n",
        "print('recall score: (fake)', recall_score(y_test, pred_nn))\n",
        "\n",
        "print('f1 score: ', f1_score(y_test, pred_nn))"
      ],
      "metadata": {
        "colab": {
          "base_uri": "https://localhost:8080/",
          "height": 0
        },
        "id": "1YIMc_k5J_cz",
        "outputId": "e28802fb-d3f4-4843-cf37-9c842f485123"
      },
      "execution_count": 100,
      "outputs": [
        {
          "output_type": "stream",
          "name": "stdout",
          "text": [
            "accuracy score:  0.975609756097561\n",
            "\n",
            "precision score (real):  1.0\n",
            "precision score (fake):  0.9333333333333333\n",
            "\n",
            "recall score: (real) 0.9629629629629629\n",
            "recall score: (fake) 1.0\n",
            "f1 score:  0.9655172413793104\n"
          ]
        }
      ]
    },
    {
      "cell_type": "code",
      "source": [
        "print(\"Kappa:\", cohen_kappa_score(y_test, pred_nn))\n",
        "print(classification_report(y_test, pred_nn))"
      ],
      "metadata": {
        "colab": {
          "base_uri": "https://localhost:8080/",
          "height": 0
        },
        "id": "erC81aYQKOie",
        "outputId": "2a52e007-bad5-4fc7-f91e-0e4883425b70"
      },
      "execution_count": 101,
      "outputs": [
        {
          "output_type": "stream",
          "name": "stdout",
          "text": [
            "Kappa: 0.9466840052015605\n",
            "              precision    recall  f1-score   support\n",
            "\n",
            "           0       1.00      0.96      0.98        27\n",
            "           1       0.93      1.00      0.97        14\n",
            "\n",
            "    accuracy                           0.98        41\n",
            "   macro avg       0.97      0.98      0.97        41\n",
            "weighted avg       0.98      0.98      0.98        41\n",
            "\n"
          ]
        }
      ]
    },
    {
      "cell_type": "markdown",
      "source": [
        "As expected, the neural network performed the best out of all of the algorithms. Neural networks are able to learn quickly and are adaptable to many situations, only requiring a change in architecture. I toyed around with several different hidden layer sizes and amounts, and through trial and error I found 15 and 3 nodes to work the best, which is coincidentally very similar to the example neural network on Github. Even when adjusting for random chance with the Kappa score, the neural network still performed admirably."
      ],
      "metadata": {
        "id": "5D-za-93RdFr"
      }
    }
  ]
}