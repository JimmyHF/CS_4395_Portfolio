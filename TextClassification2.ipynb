{
  "nbformat": 4,
  "nbformat_minor": 0,
  "metadata": {
    "colab": {
      "provenance": []
    },
    "kernelspec": {
      "name": "python3",
      "display_name": "Python 3"
    },
    "language_info": {
      "name": "python"
    }
  },
  "cells": [
    {
      "cell_type": "markdown",
      "source": [
        "# Text Classification Again"
      ],
      "metadata": {
        "id": "f68nmWEgb84F"
      }
    },
    {
      "cell_type": "markdown",
      "source": [
        "Jimmy Harvin"
      ],
      "metadata": {
        "id": "I56-f3JTVHCG"
      }
    },
    {
      "cell_type": "code",
      "execution_count": 16,
      "metadata": {
        "colab": {
          "base_uri": "https://localhost:8080/",
          "height": 0
        },
        "id": "2HKq-mPxXfkN",
        "outputId": "fe001f0f-4c67-4539-e4fd-7586ea523b96"
      },
      "outputs": [
        {
          "output_type": "stream",
          "name": "stdout",
          "text": [
            "rows and columns: (17340, 4)\n",
            "  sentiments                                     cleaned_review  \\\n",
            "0   positive  i wish would have gotten one earlier love it a...   \n",
            "1    neutral  i ve learned this lesson again open the packag...   \n",
            "2    neutral          it is so slow and lags find better option   \n",
            "3    neutral  roller ball stopped working within months of m...   \n",
            "4    neutral  i like the color and size but it few days out ...   \n",
            "\n",
            "   cleaned_review_length  review_score  \n",
            "0                     19           5.0  \n",
            "1                     88           1.0  \n",
            "2                      9           2.0  \n",
            "3                     12           1.0  \n",
            "4                     21           1.0  \n"
          ]
        },
        {
          "output_type": "stream",
          "name": "stderr",
          "text": [
            "[nltk_data] Downloading package stopwords to /root/nltk_data...\n",
            "[nltk_data]   Package stopwords is already up-to-date!\n"
          ]
        }
      ],
      "source": [
        "import pandas as pd\n",
        "import seaborn as sb\n",
        "import imblearn as il\n",
        "import numpy as np\n",
        "from sklearn.model_selection import train_test_split\n",
        "import tensorflow as tf\n",
        "from tensorflow import sparse\n",
        "from tensorflow.keras import layers, models\n",
        "from sklearn.feature_extraction.text import TfidfVectorizer\n",
        "import nltk\n",
        "from sklearn.metrics import classification_report\n",
        "from sklearn.preprocessing import MultiLabelBinarizer\n",
        "\n",
        "nltk.download('stopwords')\n",
        "\n",
        "df = pd.read_csv('./cleaned_reviews.csv', header=0, encoding='latin-1')\n",
        "print('rows and columns:', df.shape)\n",
        "print(df.head())"
      ]
    },
    {
      "cell_type": "markdown",
      "source": [
        "The chosen data set contains thousands of product reviews on Amazon. The fields of note are score, sentiments, and the cleaned review text; score is mapped to sentiments to create 3 categories (1-2 are negative, 3 is neutral, and 4-5 are positive) for classification. As seen in the graph below, there are far more positive and neutral reviews than negative ones, so class imbalance must be accounted for when training each model. Models should be able to predict sentiment based on the content of the cleaned reviews."
      ],
      "metadata": {
        "id": "PtlmwD3Uda60"
      }
    },
    {
      "cell_type": "markdown",
      "source": [
        "## Resampling"
      ],
      "metadata": {
        "id": "QTeD_FqPPWc6"
      }
    },
    {
      "cell_type": "code",
      "source": [
        "sb.catplot(x = \"sentiments\", kind = 'count', data = df)"
      ],
      "metadata": {
        "colab": {
          "base_uri": "https://localhost:8080/",
          "height": 523
        },
        "id": "MYqeNE74cmAr",
        "outputId": "775531bd-c4fc-4a20-b64a-e1bb11bda61f"
      },
      "execution_count": 17,
      "outputs": [
        {
          "output_type": "execute_result",
          "data": {
            "text/plain": [
              "<seaborn.axisgrid.FacetGrid at 0x7fe3c80f6d90>"
            ]
          },
          "metadata": {},
          "execution_count": 17
        },
        {
          "output_type": "display_data",
          "data": {
            "text/plain": [
              "<Figure size 500x500 with 1 Axes>"
            ],
            "image/png": "[encoded data removed]"
          },
          "metadata": {}
        }
      ]
    },
    {
      "cell_type": "code",
      "source": [
        "df.sentiments = df['sentiments'].astype('category')\n",
        "df.sentiments = df.sentiments.cat.codes\n",
        "print(df.sentiments)"
      ],
      "metadata": {
        "colab": {
          "base_uri": "https://localhost:8080/",
          "height": 0
        },
        "id": "00XQlxALEeQk",
        "outputId": "923433ae-03cf-4b0e-8bd5-2920caf68b6b"
      },
      "execution_count": 18,
      "outputs": [
        {
          "output_type": "stream",
          "name": "stdout",
          "text": [
            "0        2\n",
            "1        1\n",
            "2        1\n",
            "3        1\n",
            "4        1\n",
            "        ..\n",
            "17335    2\n",
            "17336    2\n",
            "17337    2\n",
            "17338    2\n",
            "17339    1\n",
            "Name: sentiments, Length: 17340, dtype: int8\n"
          ]
        }
      ]
    },
    {
      "cell_type": "code",
      "source": [
        "X_train, X_test, y_train, y_test = train_test_split(df['cleaned_review'].fillna(' '), df['sentiments'].astype('category'), test_size=0.25, random_state=1234)\n",
        "\n",
        "oversample = il.over_sampling.RandomOverSampler(sampling_strategy = {0: (y_train == 1).sum()})\n",
        "\n",
        "balanced_df = oversample.fit_resample(X_train.values.reshape(-1, 1), y_train.values.reshape(-1, 1))\n",
        "balanced_X_train = pd.DataFrame(balanced_df[0], columns = ['cleaned_review'])\n",
        "balanced_y_train = pd.DataFrame(balanced_df[1], columns = ['sentiments'])\n",
        "\n",
        "X_test = pd.DataFrame(X_test.values.reshape(-1, 1), columns = ['cleaned_review'])\n",
        "y_test = pd.DataFrame(y_test.values.reshape(-1, 1), columns = ['sentiments'])\n",
        "\n",
        "print(balanced_X_train.shape)\n",
        "print(X_test.shape)\n",
        "sb.catplot(x = \"sentiments\", kind = 'count', data = balanced_y_train)"
      ],
      "metadata": {
        "colab": {
          "base_uri": "https://localhost:8080/",
          "height": 558
        },
        "id": "NtU_FgM_eIBM",
        "outputId": "96fb85df-c05a-4634-a19c-acbb7683f6ac"
      },
      "execution_count": 4,
      "outputs": [
        {
          "output_type": "stream",
          "name": "stdout",
          "text": [
            "(16586, 1)\n",
            "(4335, 1)\n"
          ]
        },
        {
          "output_type": "execute_result",
          "data": {
            "text/plain": [
              "<seaborn.axisgrid.FacetGrid at 0x7fe3c81f0f70>"
            ]
          },
          "metadata": {},
          "execution_count": 4
        },
        {
          "output_type": "display_data",
          "data": {
            "text/plain": [
              "<Figure size 500x500 with 1 Axes>"
            ],
            "image/png": "[encoded data removed]"
          },
          "metadata": {}
        }
      ]
    },
    {
      "cell_type": "markdown",
      "source": [
        "In the above graph, sentiments have been categorized so that 0 is negative, 1 is neutral, and 2 is positive. Negative reviews were oversampled to match neutral ones in frequency."
      ],
      "metadata": {
        "id": "tSEVxmdEGIdN"
      }
    },
    {
      "cell_type": "markdown",
      "source": [
        "## Convolutional Neural Network"
      ],
      "metadata": {
        "id": "R1yqUPO3PaBe"
      }
    },
    {
      "cell_type": "code",
      "source": [
        "def matrix_to_tensor(X):\n",
        "    coo = X.tocoo()\n",
        "    indexes = np.mat([coo.row, coo.col]).transpose()\n",
        "    tensor = tf.SparseTensor(indexes, coo.data, coo.shape)\n",
        "    \n",
        "    return sparse.reorder(tensor)"
      ],
      "metadata": {
        "id": "-4oo8rgYCK9D"
      },
      "execution_count": 5,
      "outputs": []
    },
    {
      "cell_type": "markdown",
      "source": [
        "This function converts a numpy matrix into a tensor and computes a natural reordering so that it can be accepted."
      ],
      "metadata": {
        "id": "hrIKy2hCJIcA"
      }
    },
    {
      "cell_type": "code",
      "source": [
        "vectorizer = TfidfVectorizer(stop_words = 'english', encoding = 'latin-1')\n",
        "\n",
        "X_train = vectorizer.fit_transform(balanced_X_train['cleaned_review'].values)\n",
        "X_test = matrix_to_tensor(vectorizer.transform(X_test['cleaned_review'].values))\n",
        "\n",
        "print(X_train.shape)\n",
        "print(X_test.shape)\n",
        "\n",
        "y_train = np.asarray(balanced_y_train['sentiments'].values).astype('float32')\n",
        "y_test = np.asarray(y_test['sentiments'].values).astype('float32')"
      ],
      "metadata": {
        "colab": {
          "base_uri": "https://localhost:8080/",
          "height": 0
        },
        "id": "rJvFBI8RuoDi",
        "outputId": "d82e3664-0fec-4ff6-a4a7-407bfd45cc1a"
      },
      "execution_count": 6,
      "outputs": [
        {
          "output_type": "stream",
          "name": "stdout",
          "text": [
            "(16586, 8334)\n",
            "(4335, 8334)\n"
          ]
        }
      ]
    },
    {
      "cell_type": "markdown",
      "source": [
        "This vectorizer only uses unigrams because the convolutional network cannot handle larger inputs than 8334 without crashing."
      ],
      "metadata": {
        "id": "yxORuCNTJdyk"
      }
    },
    {
      "cell_type": "code",
      "source": [
        "# create a validation set\n",
        "\n",
        "X_val = matrix_to_tensor(X_train[:1000])\n",
        "partial_X_train = matrix_to_tensor(X_train[1000:])\n",
        "\n",
        "print(X_val.shape)\n",
        "\n",
        "y_val = y_train[:1000]\n",
        "partial_y_train = y_train[1000:]"
      ],
      "metadata": {
        "colab": {
          "base_uri": "https://localhost:8080/",
          "height": 0
        },
        "id": "b7VFvq2R20FI",
        "outputId": "120ca079-616c-4192-f7e1-5ed1f3eddeb5"
      },
      "execution_count": 8,
      "outputs": [
        {
          "output_type": "stream",
          "name": "stdout",
          "text": [
            "(1000, 8334)\n"
          ]
        }
      ]
    },
    {
      "cell_type": "code",
      "source": [
        "modelCNN = models.Sequential()\n",
        "modelCNN.add(layers.Embedding(10, 256, input_length = 8334)) \n",
        "modelCNN.add(layers.Conv1D(32, 24, activation = 'relu'))\n",
        "modelCNN.add(layers.MaxPooling1D(16))\n",
        "modelCNN.add(layers.Conv1D(16, 12, activation = 'relu'))\n",
        "modelCNN.add(layers.GlobalMaxPooling1D())\n",
        "modelCNN.add(layers.Dense(3, activation = 'softmax'))\n",
        "\n",
        "modelCNN.compile(optimizer='rmsprop',\n",
        "              loss='sparse_categorical_crossentropy',\n",
        "              metrics=['sparse_categorical_accuracy'])"
      ],
      "metadata": {
        "id": "r94ubW8iJm38"
      },
      "execution_count": 9,
      "outputs": []
    },
    {
      "cell_type": "code",
      "source": [
        "history = modelCNN.fit(partial_X_train,\n",
        "                    partial_y_train,\n",
        "                    epochs = 1,\n",
        "                    batch_size = 256,\n",
        "                    validation_data = (X_val, y_val))"
      ],
      "metadata": {
        "colab": {
          "base_uri": "https://localhost:8080/",
          "height": 0
        },
        "id": "AnW0LcfNLRCg",
        "outputId": "088d3e84-771b-47bb-bef3-39060296b0c9"
      },
      "execution_count": 10,
      "outputs": [
        {
          "output_type": "stream",
          "name": "stdout",
          "text": [
            "61/61 [==============================] - 6841s 112s/step - loss: 1.0846 - sparse_categorical_accuracy: 0.4163 - val_loss: 1.0535 - val_sparse_categorical_accuracy: 0.5510\n"
          ]
        }
      ]
    },
    {
      "cell_type": "code",
      "source": [
        "predCNN = modelCNN.predict(X_test)\n",
        "predCNN = [[1.0 if p >= 0.5 else 0.0 for p in a] for a in predCNN]\n",
        "predCNN = [a.index(1.0) if 1.0 in a else 0.0 for a in predCNN]\n",
        "print(classification_report(y_test, predCNN))"
      ],
      "metadata": {
        "colab": {
          "base_uri": "https://localhost:8080/",
          "height": 0
        },
        "id": "IkbcRShj6ukG",
        "outputId": "4335cda9-fd4e-453e-b7fe-d696aad76540"
      },
      "execution_count": 11,
      "outputs": [
        {
          "output_type": "stream",
          "name": "stdout",
          "text": [
            "136/136 [==============================] - 322s 2s/step\n",
            "              precision    recall  f1-score   support\n",
            "\n",
            "         0.0       0.09      1.00      0.16       375\n",
            "         1.0       0.00      0.00      0.00      1563\n",
            "         2.0       0.00      0.00      0.00      2397\n",
            "\n",
            "    accuracy                           0.09      4335\n",
            "   macro avg       0.03      0.33      0.05      4335\n",
            "weighted avg       0.01      0.09      0.01      4335\n",
            "\n"
          ]
        },
        {
          "output_type": "stream",
          "name": "stderr",
          "text": [
            "/usr/local/lib/python3.9/dist-packages/sklearn/metrics/_classification.py:1344: UndefinedMetricWarning: Precision and F-score are ill-defined and being set to 0.0 in labels with no predicted samples. Use `zero_division` parameter to control this behavior.\n",
            "  _warn_prf(average, modifier, msg_start, len(result))\n",
            "/usr/local/lib/python3.9/dist-packages/sklearn/metrics/_classification.py:1344: UndefinedMetricWarning: Precision and F-score are ill-defined and being set to 0.0 in labels with no predicted samples. Use `zero_division` parameter to control this behavior.\n",
            "  _warn_prf(average, modifier, msg_start, len(result))\n",
            "/usr/local/lib/python3.9/dist-packages/sklearn/metrics/_classification.py:1344: UndefinedMetricWarning: Precision and F-score are ill-defined and being set to 0.0 in labels with no predicted samples. Use `zero_division` parameter to control this behavior.\n",
            "  _warn_prf(average, modifier, msg_start, len(result))\n"
          ]
        }
      ]
    },
    {
      "cell_type": "markdown",
      "source": [
        "This model performed horribly, but it has more to do with constraints on training and poor inputs than the architecture itself. Based on the time it took to run just a single epoch, the standard 20 epochs recommended in the notebooks would have taken around 40 hours, and I did not have that sort of time."
      ],
      "metadata": {
        "id": "wHT2FLJuJpVI"
      }
    },
    {
      "cell_type": "markdown",
      "source": [
        "## Sequential"
      ],
      "metadata": {
        "id": "bszLW7FtPN2z"
      }
    },
    {
      "cell_type": "code",
      "source": [
        "X_train, X_test, y_train, y_test = train_test_split(df['cleaned_review'].fillna(' '), df['sentiments'].astype('category'), test_size=0.25, random_state=1234)\n",
        "\n",
        "oversample = il.over_sampling.RandomOverSampler(sampling_strategy = {0: (y_train == 1).sum()})\n",
        "\n",
        "balanced_df = oversample.fit_resample(X_train.values.reshape(-1, 1), y_train.values.reshape(-1, 1))\n",
        "balanced_X_train = pd.DataFrame(balanced_df[0], columns = ['cleaned_review'])\n",
        "balanced_y_train = pd.DataFrame(balanced_df[1], columns = ['sentiments'])"
      ],
      "metadata": {
        "id": "SJZZEph58lBx"
      },
      "execution_count": 31,
      "outputs": []
    },
    {
      "cell_type": "code",
      "source": [
        "vectorizer = TfidfVectorizer(stop_words = 'english', encoding = 'latin-1', ngram_range = (1, 2))\n",
        "\n",
        "X_train = vectorizer.fit_transform(balanced_X_train['cleaned_review'].values)\n",
        "X_test = matrix_to_tensor(vectorizer.transform(X_test))\n",
        "\n",
        "print(X_train.shape)\n",
        "print(X_test.shape)\n",
        "\n",
        "y_train = np.asarray(balanced_y_train['sentiments'].values).astype('float32')\n",
        "y_test = np.asarray(y_test).astype('float32')"
      ],
      "metadata": {
        "colab": {
          "base_uri": "https://localhost:8080/",
          "height": 0
        },
        "id": "iwA_dO52E3_c",
        "outputId": "7ca6262a-e9e9-4c3a-a974-b00227715050"
      },
      "execution_count": 32,
      "outputs": [
        {
          "output_type": "stream",
          "name": "stdout",
          "text": [
            "(16586, 95680)\n",
            "(4335, 95680)\n"
          ]
        }
      ]
    },
    {
      "cell_type": "markdown",
      "source": [
        "This vectorizer uses bigrams to get more out of the data for simpler sequential models."
      ],
      "metadata": {
        "id": "NxRvmg4nKQjg"
      }
    },
    {
      "cell_type": "code",
      "source": [
        "X_val = matrix_to_tensor(X_train[:1000])\n",
        "partial_X_train = matrix_to_tensor(X_train[1000:])\n",
        "\n",
        "print(X_val.shape)\n",
        "\n",
        "y_val = y_train[:1000]\n",
        "partial_y_train = y_train[1000:]"
      ],
      "metadata": {
        "colab": {
          "base_uri": "https://localhost:8080/",
          "height": 0
        },
        "id": "z6Z2UgjMGnet",
        "outputId": "17de9b0b-42d9-4bad-d9a5-d71037f0b73a"
      },
      "execution_count": 33,
      "outputs": [
        {
          "output_type": "stream",
          "name": "stdout",
          "text": [
            "(1000, 95680)\n"
          ]
        }
      ]
    },
    {
      "cell_type": "code",
      "source": [
        "model = models.Sequential()\n",
        "model.add(layers.Dense(64, activation='relu'))\n",
        "model.add(layers.Dropout(0.25))\n",
        "model.add(layers.Flatten())\n",
        "model.add(layers.Dense(32, activation='relu'))\n",
        "model.add(layers.Dropout(0.25))\n",
        "model.add(layers.Flatten())\n",
        "model.add(layers.Dense(16, activation='relu'))\n",
        "model.add(layers.Dense(3, activation='softmax'))\n",
        "\n",
        "model.compile(optimizer='rmsprop',\n",
        "              loss='sparse_categorical_crossentropy',\n",
        "              metrics=['sparse_categorical_accuracy'])"
      ],
      "metadata": {
        "id": "AmOYlJOP2Ijs"
      },
      "execution_count": 34,
      "outputs": []
    },
    {
      "cell_type": "markdown",
      "source": [
        "Dropout layers were added to prevent overfitting, as even with additional dense layers, this model trains extremely quickly."
      ],
      "metadata": {
        "id": "xETtcVdlKbY_"
      }
    },
    {
      "cell_type": "code",
      "source": [
        "history = model.fit(partial_X_train,\n",
        "                    partial_y_train,\n",
        "                    epochs = 20,\n",
        "                    batch_size = 512,\n",
        "                    validation_data = (X_val, y_val))"
      ],
      "metadata": {
        "colab": {
          "base_uri": "https://localhost:8080/",
          "height": 0
        },
        "id": "ZtWRRx6n29D6",
        "outputId": "d66e034a-7e61-4376-f4c9-7fb4f13dcf8f"
      },
      "execution_count": 35,
      "outputs": [
        {
          "output_type": "stream",
          "name": "stdout",
          "text": [
            "Epoch 1/20\n",
            "31/31 [==============================] - 2s 45ms/step - loss: 1.0782 - sparse_categorical_accuracy: 0.4147 - val_loss: 1.0022 - val_sparse_categorical_accuracy: 0.5510\n",
            "Epoch 2/20\n",
            "31/31 [==============================] - 1s 39ms/step - loss: 0.9653 - sparse_categorical_accuracy: 0.5589 - val_loss: 0.8375 - val_sparse_categorical_accuracy: 0.6050\n",
            "Epoch 3/20\n",
            "31/31 [==============================] - 2s 56ms/step - loss: 0.7816 - sparse_categorical_accuracy: 0.6904 - val_loss: 0.7068 - val_sparse_categorical_accuracy: 0.6150\n",
            "Epoch 4/20\n",
            "31/31 [==============================] - 1s 38ms/step - loss: 0.6022 - sparse_categorical_accuracy: 0.7709 - val_loss: 0.5680 - val_sparse_categorical_accuracy: 0.7670\n",
            "Epoch 5/20\n",
            "31/31 [==============================] - 1s 36ms/step - loss: 0.4456 - sparse_categorical_accuracy: 0.8660 - val_loss: 0.4501 - val_sparse_categorical_accuracy: 0.8460\n",
            "Epoch 6/20\n",
            "31/31 [==============================] - 1s 41ms/step - loss: 0.3136 - sparse_categorical_accuracy: 0.9218 - val_loss: 0.3758 - val_sparse_categorical_accuracy: 0.8500\n",
            "Epoch 7/20\n",
            "31/31 [==============================] - 1s 41ms/step - loss: 0.2090 - sparse_categorical_accuracy: 0.9520 - val_loss: 0.3163 - val_sparse_categorical_accuracy: 0.8690\n",
            "Epoch 8/20\n",
            "31/31 [==============================] - 1s 38ms/step - loss: 0.1361 - sparse_categorical_accuracy: 0.9706 - val_loss: 0.3078 - val_sparse_categorical_accuracy: 0.8710\n",
            "Epoch 9/20\n",
            "31/31 [==============================] - 1s 41ms/step - loss: 0.0928 - sparse_categorical_accuracy: 0.9818 - val_loss: 0.3038 - val_sparse_categorical_accuracy: 0.8770\n",
            "Epoch 10/20\n",
            "31/31 [==============================] - 2s 51ms/step - loss: 0.0662 - sparse_categorical_accuracy: 0.9876 - val_loss: 0.3287 - val_sparse_categorical_accuracy: 0.8820\n",
            "Epoch 11/20\n",
            "31/31 [==============================] - 1s 45ms/step - loss: 0.0500 - sparse_categorical_accuracy: 0.9904 - val_loss: 0.3374 - val_sparse_categorical_accuracy: 0.8820\n",
            "Epoch 12/20\n",
            "31/31 [==============================] - 1s 38ms/step - loss: 0.0402 - sparse_categorical_accuracy: 0.9929 - val_loss: 0.3436 - val_sparse_categorical_accuracy: 0.8870\n",
            "Epoch 13/20\n",
            "31/31 [==============================] - 1s 39ms/step - loss: 0.0310 - sparse_categorical_accuracy: 0.9954 - val_loss: 0.3749 - val_sparse_categorical_accuracy: 0.8900\n",
            "Epoch 14/20\n",
            "31/31 [==============================] - 1s 39ms/step - loss: 0.0279 - sparse_categorical_accuracy: 0.9957 - val_loss: 0.3979 - val_sparse_categorical_accuracy: 0.8840\n",
            "Epoch 15/20\n",
            "31/31 [==============================] - 2s 59ms/step - loss: 0.0232 - sparse_categorical_accuracy: 0.9969 - val_loss: 0.4258 - val_sparse_categorical_accuracy: 0.8890\n",
            "Epoch 16/20\n",
            "31/31 [==============================] - 2s 52ms/step - loss: 0.0192 - sparse_categorical_accuracy: 0.9976 - val_loss: 0.4243 - val_sparse_categorical_accuracy: 0.8850\n",
            "Epoch 17/20\n",
            "31/31 [==============================] - 2s 52ms/step - loss: 0.0188 - sparse_categorical_accuracy: 0.9975 - val_loss: 0.4551 - val_sparse_categorical_accuracy: 0.8900\n",
            "Epoch 18/20\n",
            "31/31 [==============================] - 1s 41ms/step - loss: 0.0181 - sparse_categorical_accuracy: 0.9980 - val_loss: 0.5093 - val_sparse_categorical_accuracy: 0.8840\n",
            "Epoch 19/20\n",
            "31/31 [==============================] - 1s 41ms/step - loss: 0.0158 - sparse_categorical_accuracy: 0.9978 - val_loss: 0.4555 - val_sparse_categorical_accuracy: 0.8850\n",
            "Epoch 20/20\n",
            "31/31 [==============================] - 1s 40ms/step - loss: 0.0144 - sparse_categorical_accuracy: 0.9979 - val_loss: 0.5057 - val_sparse_categorical_accuracy: 0.8890\n"
          ]
        }
      ]
    },
    {
      "cell_type": "code",
      "source": [
        "pred = model.predict(X_test)\n",
        "pred = [[1.0 if p >= 0.5 else 0.0 for p in a] for a in pred]\n",
        "pred = [a.index(1.0) if 1.0 in a else 0.0 for a in pred]\n",
        "print(classification_report(y_test, pred))"
      ],
      "metadata": {
        "colab": {
          "base_uri": "https://localhost:8080/",
          "height": 0
        },
        "id": "QCZcsGGrC7tR",
        "outputId": "519c1273-dbf4-432e-8808-4ed5e13087bf"
      },
      "execution_count": 36,
      "outputs": [
        {
          "output_type": "stream",
          "name": "stdout",
          "text": [
            "136/136 [==============================] - 0s 2ms/step\n",
            "              precision    recall  f1-score   support\n",
            "\n",
            "         0.0       0.84      0.60      0.70       375\n",
            "         1.0       0.81      0.85      0.83      1563\n",
            "         2.0       0.91      0.92      0.92      2397\n",
            "\n",
            "    accuracy                           0.87      4335\n",
            "   macro avg       0.85      0.79      0.82      4335\n",
            "weighted avg       0.87      0.87      0.87      4335\n",
            "\n"
          ]
        }
      ]
    },
    {
      "cell_type": "markdown",
      "source": [
        "Surprisingly, the simple sequential network did a fine job with both the validation and test data. Negative reviews were oversampled for training, but the model still struggled with recalling negative reviews, and it performed best with positive reviews because that was the majority class. Training accuracy was significantly higher than testing accuracy, so there was some overfitting."
      ],
      "metadata": {
        "id": "oERxlE6bKmip"
      }
    },
    {
      "cell_type": "markdown",
      "source": [
        "## Embedding"
      ],
      "metadata": {
        "id": "_wriVthjPItP"
      }
    },
    {
      "cell_type": "code",
      "source": [
        "X_train, X_test, y_train, y_test = train_test_split(df['cleaned_review'].fillna(' '), df['sentiments'].astype('category'), test_size=0.25, random_state=1234)\n",
        "\n",
        "oversample = il.over_sampling.RandomOverSampler(sampling_strategy = {0: (y_train == 1).sum()})\n",
        "\n",
        "balanced_df = oversample.fit_resample(X_train.values.reshape(-1, 1), y_train.values.reshape(-1, 1))\n",
        "balanced_X_train = pd.DataFrame(balanced_df[0], columns = ['cleaned_review'])\n",
        "balanced_y_train = pd.DataFrame(balanced_df[1], columns = ['sentiments'])\n",
        "\n",
        "X_test = pd.DataFrame(X_test.values.reshape(-1, 1), columns = ['cleaned_review'])\n",
        "y_test = pd.DataFrame(y_test.values.reshape(-1, 1), columns = ['sentiments'])"
      ],
      "metadata": {
        "id": "uBSE-rC6NTIx"
      },
      "execution_count": 43,
      "outputs": []
    },
    {
      "cell_type": "code",
      "source": [
        "vectorizer = TfidfVectorizer(stop_words = 'english', encoding = 'latin-1')\n",
        "\n",
        "X_train = vectorizer.fit_transform(balanced_X_train['cleaned_review'].values)\n",
        "X_test = matrix_to_tensor(vectorizer.transform(X_test))\n",
        "\n",
        "print(X_train.shape)\n",
        "print(X_test.shape)\n",
        "\n",
        "y_train = np.asarray(balanced_y_train['sentiments'].values).astype('float32')\n",
        "y_test = np.asarray(y_test).astype('float32')"
      ],
      "metadata": {
        "colab": {
          "base_uri": "https://localhost:8080/",
          "height": 0
        },
        "id": "dMvKBmgcNYsl",
        "outputId": "1c909076-2f63-46ff-a387-2324deef856f"
      },
      "execution_count": 44,
      "outputs": [
        {
          "output_type": "stream",
          "name": "stdout",
          "text": [
            "(16586, 8334)\n",
            "(1, 8334)\n"
          ]
        }
      ]
    },
    {
      "cell_type": "code",
      "source": [
        "X_val = matrix_to_tensor(X_train[:1000])\n",
        "partial_X_train = matrix_to_tensor(X_train[1000:])\n",
        "\n",
        "print(X_val.shape)\n",
        "\n",
        "y_val = y_train[:1000]\n",
        "partial_y_train = y_train[1000:]"
      ],
      "metadata": {
        "colab": {
          "base_uri": "https://localhost:8080/",
          "height": 0
        },
        "id": "xUv8Xb0SNjwC",
        "outputId": "80f6f559-a802-43e5-a153-ae6818e3236b"
      },
      "execution_count": 45,
      "outputs": [
        {
          "output_type": "stream",
          "name": "stdout",
          "text": [
            "(1000, 8334)\n"
          ]
        }
      ]
    },
    {
      "cell_type": "code",
      "source": [
        "modelE = models.Sequential()\n",
        "modelE.add(layers.Embedding(1000, 32, input_length = 8334))\n",
        "modelE.add(layers.Flatten())\n",
        "modelE.add(layers.Dense(16, activation='relu'))\n",
        "modelE.add(layers.Dense(8, activation='relu'))\n",
        "modelE.add(layers.Dense(3, activation='softmax'))\n",
        "\n",
        "modelE.compile(optimizer='rmsprop',\n",
        "              loss='sparse_categorical_crossentropy',\n",
        "              metrics=['sparse_categorical_accuracy'])"
      ],
      "metadata": {
        "id": "fsKR-B7dG923"
      },
      "execution_count": 52,
      "outputs": []
    },
    {
      "cell_type": "code",
      "source": [
        "history = modelE.fit(partial_X_train,\n",
        "                    partial_y_train,\n",
        "                    epochs = 20,\n",
        "                    batch_size = 256,\n",
        "                    validation_data = (X_val, y_val))"
      ],
      "metadata": {
        "colab": {
          "base_uri": "https://localhost:8080/",
          "height": 0
        },
        "id": "2VDV1KBPIB6W",
        "outputId": "ff6a02db-bde3-49a4-f17a-9e03361653c9"
      },
      "execution_count": 53,
      "outputs": [
        {
          "output_type": "stream",
          "name": "stdout",
          "text": [
            "Epoch 1/20\n",
            "61/61 [==============================] - 108s 2s/step - loss: 1.1231 - sparse_categorical_accuracy: 0.3977 - val_loss: 1.0833 - val_sparse_categorical_accuracy: 0.5510\n",
            "Epoch 2/20\n",
            "61/61 [==============================] - 57s 938ms/step - loss: 1.0886 - sparse_categorical_accuracy: 0.4206 - val_loss: 1.0653 - val_sparse_categorical_accuracy: 0.5510\n",
            "Epoch 3/20\n",
            "61/61 [==============================] - 51s 832ms/step - loss: 1.0841 - sparse_categorical_accuracy: 0.4206 - val_loss: 1.0532 - val_sparse_categorical_accuracy: 0.5510\n",
            "Epoch 4/20\n",
            "61/61 [==============================] - 52s 859ms/step - loss: 1.0823 - sparse_categorical_accuracy: 0.4206 - val_loss: 1.0467 - val_sparse_categorical_accuracy: 0.5510\n",
            "Epoch 5/20\n",
            "61/61 [==============================] - 50s 821ms/step - loss: 1.0819 - sparse_categorical_accuracy: 0.4206 - val_loss: 1.0447 - val_sparse_categorical_accuracy: 0.5510\n",
            "Epoch 6/20\n",
            "61/61 [==============================] - 63s 1s/step - loss: 1.0819 - sparse_categorical_accuracy: 0.4206 - val_loss: 1.0429 - val_sparse_categorical_accuracy: 0.5510\n",
            "Epoch 7/20\n",
            "61/61 [==============================] - 57s 935ms/step - loss: 1.0819 - sparse_categorical_accuracy: 0.4206 - val_loss: 1.0437 - val_sparse_categorical_accuracy: 0.5510\n",
            "Epoch 8/20\n",
            "61/61 [==============================] - 51s 844ms/step - loss: 1.0819 - sparse_categorical_accuracy: 0.4206 - val_loss: 1.0439 - val_sparse_categorical_accuracy: 0.5510\n",
            "Epoch 9/20\n",
            "61/61 [==============================] - 50s 824ms/step - loss: 1.0819 - sparse_categorical_accuracy: 0.4206 - val_loss: 1.0436 - val_sparse_categorical_accuracy: 0.5510\n",
            "Epoch 10/20\n",
            "61/61 [==============================] - 51s 844ms/step - loss: 1.0819 - sparse_categorical_accuracy: 0.4206 - val_loss: 1.0434 - val_sparse_categorical_accuracy: 0.5510\n",
            "Epoch 11/20\n",
            "61/61 [==============================] - 50s 821ms/step - loss: 1.0818 - sparse_categorical_accuracy: 0.4206 - val_loss: 1.0431 - val_sparse_categorical_accuracy: 0.5510\n",
            "Epoch 12/20\n",
            "61/61 [==============================] - 50s 821ms/step - loss: 1.0818 - sparse_categorical_accuracy: 0.4206 - val_loss: 1.0429 - val_sparse_categorical_accuracy: 0.5510\n",
            "Epoch 13/20\n",
            "61/61 [==============================] - 50s 818ms/step - loss: 1.0818 - sparse_categorical_accuracy: 0.4206 - val_loss: 1.0431 - val_sparse_categorical_accuracy: 0.5510\n",
            "Epoch 14/20\n",
            "61/61 [==============================] - 50s 828ms/step - loss: 1.0818 - sparse_categorical_accuracy: 0.4206 - val_loss: 1.0441 - val_sparse_categorical_accuracy: 0.5510\n",
            "Epoch 15/20\n",
            "61/61 [==============================] - 51s 830ms/step - loss: 1.0819 - sparse_categorical_accuracy: 0.4206 - val_loss: 1.0429 - val_sparse_categorical_accuracy: 0.5510\n",
            "Epoch 16/20\n",
            "61/61 [==============================] - 50s 826ms/step - loss: 1.0819 - sparse_categorical_accuracy: 0.4206 - val_loss: 1.0428 - val_sparse_categorical_accuracy: 0.5510\n",
            "Epoch 17/20\n",
            "61/61 [==============================] - 51s 829ms/step - loss: 1.0818 - sparse_categorical_accuracy: 0.4206 - val_loss: 1.0434 - val_sparse_categorical_accuracy: 0.5510\n",
            "Epoch 18/20\n",
            "61/61 [==============================] - 50s 828ms/step - loss: 1.0818 - sparse_categorical_accuracy: 0.4206 - val_loss: 1.0429 - val_sparse_categorical_accuracy: 0.5510\n",
            "Epoch 19/20\n",
            "61/61 [==============================] - 50s 828ms/step - loss: 1.0819 - sparse_categorical_accuracy: 0.4206 - val_loss: 1.0422 - val_sparse_categorical_accuracy: 0.5510\n",
            "Epoch 20/20\n",
            "61/61 [==============================] - 52s 857ms/step - loss: 1.0818 - sparse_categorical_accuracy: 0.4206 - val_loss: 1.0436 - val_sparse_categorical_accuracy: 0.5510\n"
          ]
        }
      ]
    },
    {
      "cell_type": "code",
      "source": [
        "predE = modelE.predict(X_test)\n",
        "predE = [[1.0 if p >= 0.5 else 0.0 for p in a] for a in predE]\n",
        "predE = [a.index(1.0) if 1.0 in a else 0.0 for a in predE]\n",
        "print(classification_report(y_test, predE))"
      ],
      "metadata": {
        "id": "Q9cyZ6p9QCpf"
      },
      "execution_count": null,
      "outputs": []
    },
    {
      "cell_type": "markdown",
      "source": [
        "Just like with the convolutional nenural network, my oversampled sparse tensors did not play nice with the model. Even when all of the input shapes matched up, this simple model with embedding did not extract much meaning from the text, and both training and validation accuracy flatlined with each epoch. Given more time, embedding or one-hot encoding may have improved the simple model, but I was unable to acheive better results. It also probably hurts that this model moved back to unigrams rather than bigrams."
      ],
      "metadata": {
        "id": "sQw-Nv1xQYKi"
      }
    }
  ]
}